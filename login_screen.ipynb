{
 "cells": [
  {
   "cell_type": "markdown",
   "metadata": {},
   "source": [
    "# 🔐 Simple Login Screen in C\n",
    "This notebook demonstrates how to write, compile, and run a basic C login screen using Jupyter Notebook with `gcc`."
   ]
  },
  {
   "cell_type": "code",
   "execution_count": null,
   "metadata": {},
   "outputs": [],
   "source": [
    "%%writefile login.c\n",
    "#include <stdio.h>\n",
    "#include <string.h>\n",
    "\n",
    "int main() {\n",
    "    char correctUsername[] = \"admin\";\n",
    "    char correctPassword[] = \"1234\";\n",
    "\n",
    "    char username[30], password[30];\n",
    "    int attempt, maxAttempts = 3;\n",
    "\n",
    "    printf(\"=== Login System ===\\n\");\n",
    "\n",
    "    for (attempt = 1; attempt <= maxAttempts; attempt++) {\n",
    "        printf(\"\\nAttempt %d of %d\\n\", attempt, maxAttempts);\n",
    "        printf(\"Username: \");\n",
    "        scanf(\"%s\", username);\n",
    "        printf(\"Password: \");\n",
    "        scanf(\"%s\", password);\n",
    "\n",
    "        if (strcmp(username, correctUsername) == 0 && strcmp(password, correctPassword) == 0) {\n",
    "            printf(\"\\n✅ Login successful! Welcome, %s.\\n\", username);\n",
    "            return 0;\n",
    "        } else {\n",
    "            printf(\"❌ Invalid username or password.\\n\");\n",
    "        }\n",
    "    }\n",
    "\n",
    "    printf(\"\\n🚫 Too many failed attempts. Exiting...\\n\");\n",
    "    return 1;\n",
    "}"
   ]
  },
  {
   "cell_type": "markdown",
   "metadata": {},
   "source": [
    "## 🛠️ Compile the C Program"
   ]
  },
  {
   "cell_type": "code",
   "execution_count": null,
   "metadata": {},
   "outputs": [],
   "source": [
    "!gcc login.c -o login"
   ]
  },
  {
   "cell_type": "markdown",
   "metadata": {},
   "source": [
    "## ▶️ Run the Program\n",
    "Since we can't input values interactively via notebook, let's simulate login inputs using `echo`."
   ]
  },
  {
   "cell_type": "code",
   "execution_count": null,
   "metadata": {},
   "outputs": [],
   "source": [
    "!echo -e \"admin\\n1234\" | ./login"
   ]
  }
 ],
 "metadata": {
  "kernelspec": {
   "display_name": "C (GCC)",
   "language": "c",
   "name": "c"
  },
  "language_info": {
   "name": "c"
  }
 },
 "nbformat": 4,
 "nbformat_minor": 2
}
